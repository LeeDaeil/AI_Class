{
 "cells": [
  {
   "cell_type": "markdown",
   "metadata": {},
   "source": [
    "# 1. List와 Tuple 관련 데이터 처리"
   ]
  },
  {
   "cell_type": "markdown",
   "metadata": {},
   "source": [
    "1.1 List에서 값 정렬하기\n",
    "    - List에 sort() 함수를 적용하면 본래 List가 정렬된다. (정렬하여 반환하는 것이 아님)"
   ]
  },
  {
   "cell_type": "code",
   "execution_count": 2,
   "metadata": {},
   "outputs": [
    {
     "name": "stdout",
     "output_type": "stream",
     "text": [
      "[1, 2, 2, 3, 6]\n"
     ]
    }
   ],
   "source": [
    "Test_ = [3, 2, 6, 2, 1]\n",
    "Test_.sort()\n",
    "print(Test_)"
   ]
  },
  {
   "cell_type": "markdown",
   "metadata": {},
   "source": [
    "1.2 List에서 문자열의 길이에 따라서 정렬 할 수 있다. 또는 대소 문자로 정렬 할 수 있다."
   ]
  },
  {
   "cell_type": "code",
   "execution_count": 5,
   "metadata": {},
   "outputs": [
    {
     "name": "stdout",
     "output_type": "stream",
     "text": [
      "['가', '나', '가나', '다라', '나다라마']\n"
     ]
    }
   ],
   "source": [
    "Test_str = ['가', '가나', '나', '나다라마', '다라']\n",
    "Test_str.sort(key=len)\n",
    "print(Test_str)"
   ]
  },
  {
   "cell_type": "code",
   "execution_count": 7,
   "metadata": {},
   "outputs": [
    {
     "name": "stdout",
     "output_type": "stream",
     "text": [
      "['a', 'B', 'c']\n"
     ]
    }
   ],
   "source": [
    "Test_e_str = ['a', 'B', 'c']\n",
    "Test_e_str.sort(key=str.lower) # 대소문자를 구분하지 않고 정렬\n",
    "print(Test_e_str)"
   ]
  },
  {
   "cell_type": "code",
   "execution_count": 8,
   "metadata": {},
   "outputs": [
    {
     "name": "stdout",
     "output_type": "stream",
     "text": [
      "['나다라마', '가나', '다라', '가', '나']\n"
     ]
    }
   ],
   "source": [
    "Test_str = ['가', '가나', '나', '나다라마', '다라']\n",
    "Test_str.sort(key=len, reverse=True)\n",
    "print(Test_str)"
   ]
  },
  {
   "cell_type": "code",
   "execution_count": 18,
   "metadata": {},
   "outputs": [
    {
     "name": "stdout",
     "output_type": "stream",
     "text": [
      "1\n",
      "2\n",
      "6\n",
      "2\n",
      "3\n",
      "=\n",
      "1\n",
      "0\n"
     ]
    }
   ],
   "source": [
    "import bisect\n",
    "\n",
    "# 리스트의 마지막 항 부터 가져오기\n",
    "Test_ = [3, 2, 6, 2, 1]\n",
    "for _ in reversed(Test_):\n",
    "    print(_)\n",
    "print('=')\n",
    "# bisect 를 사용하여 breakpoint 지점에 따라 구분하기\n",
    "print(bisect.bisect([1, 2, 3], 1.2))\n",
    "print(bisect.bisect([1, 2, 3], -0.1))"
   ]
  },
  {
   "cell_type": "code",
   "execution_count": 20,
   "metadata": {},
   "outputs": [
    {
     "data": {
      "text/plain": [
       "True"
      ]
     },
     "execution_count": 20,
     "metadata": {},
     "output_type": "execute_result"
    }
   ],
   "source": [
    "# List 내에 해당 값이 존재하는지?\n",
    "Test_ = [3, 2, 6, 2, 1]\n",
    "Test_.__contains__(1)"
   ]
  },
  {
   "cell_type": "code",
   "execution_count": 23,
   "metadata": {},
   "outputs": [
    {
     "data": {
      "text/plain": [
       "2"
      ]
     },
     "execution_count": 23,
     "metadata": {},
     "output_type": "execute_result"
    }
   ],
   "source": [
    "# List 내에 해당 값이 몇개나 존재하는지?\n",
    "Test_ = [3, 2, 6, 2, 1]\n",
    "Test_.count(2)"
   ]
  },
  {
   "cell_type": "code",
   "execution_count": 25,
   "metadata": {},
   "outputs": [
    {
     "data": {
      "text/plain": [
       "6"
      ]
     },
     "execution_count": 25,
     "metadata": {},
     "output_type": "execute_result"
    }
   ],
   "source": [
    "Test_.__getitem__(2) # Test_[2]"
   ]
  },
  {
   "cell_type": "code",
   "execution_count": 30,
   "metadata": {},
   "outputs": [
    {
     "data": {
      "text/plain": [
       "[1, 2, 6, 2, 3]"
      ]
     },
     "execution_count": 30,
     "metadata": {},
     "output_type": "execute_result"
    }
   ],
   "source": [
    "Test_.reverse()\n",
    "Test_"
   ]
  },
  {
   "cell_type": "code",
   "execution_count": 31,
   "metadata": {},
   "outputs": [],
   "source": [
    "import numpy as np"
   ]
  },
  {
   "cell_type": "code",
   "execution_count": 33,
   "metadata": {},
   "outputs": [],
   "source": [
    "def test_fun(input_val):\n",
    "    return input_val + 1\n",
    "test_fun_array = np.array([test_fun(1), test_fun(2)])"
   ]
  },
  {
   "cell_type": "code",
   "execution_count": 34,
   "metadata": {},
   "outputs": [
    {
     "data": {
      "text/plain": [
       "array([2, 3])"
      ]
     },
     "execution_count": 34,
     "metadata": {},
     "output_type": "execute_result"
    }
   ],
   "source": [
    "test_fun_array"
   ]
  },
  {
   "cell_type": "code",
   "execution_count": 35,
   "metadata": {},
   "outputs": [
    {
     "name": "stdout",
     "output_type": "stream",
     "text": [
      "[<function test_fun at 0x0000021DFAEA44C0>]\n"
     ]
    }
   ],
   "source": [
    "test_fun_array = np.array([test_fun])\n",
    "print(test_fun_array)"
   ]
  },
  {
   "cell_type": "code",
   "execution_count": null,
   "metadata": {},
   "outputs": [],
   "source": []
  }
 ],
 "metadata": {
  "kernelspec": {
   "display_name": "Python 3",
   "language": "python",
   "name": "python3"
  },
  "language_info": {
   "codemirror_mode": {
    "name": "ipython",
    "version": 3
   },
   "file_extension": ".py",
   "mimetype": "text/x-python",
   "name": "python",
   "nbconvert_exporter": "python",
   "pygments_lexer": "ipython3",
   "version": "3.8.6"
  }
 },
 "nbformat": 4,
 "nbformat_minor": 4
}
