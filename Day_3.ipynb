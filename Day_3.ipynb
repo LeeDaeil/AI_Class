{
 "cells": [
  {
   "cell_type": "markdown",
   "metadata": {
    "collapsed": true,
    "pycharm": {
     "name": "#%% md\n"
    }
   },
   "source": [
    "# 3. 훈련 데이터 생성\n",
    "## 3.1 데이터 로드와 전처리"
   ]
  },
  {
   "cell_type": "code",
   "execution_count": null,
   "outputs": [],
   "source": [
    "import pandas as pd\n",
    "import numpy as np\n",
    "import pickle\n",
    "import os\n",
    "from sklearn.preprocessing import MinMaxScaler\n",
    "\n",
    "train_x, train_y = np.array([]), np.array([])\n",
    "want_para = ['WAFWTK', 'FCWP']\n",
    "scaler = MinMaxScaler()\n",
    "\n",
    "for file in os.listdir('./DB')[0:2]:\n",
    "    if '.csv' in file:\n",
    "        csv_db = pd.read_csv(f'./DB/{file}', index_col=0)\n",
    "        #1. CSV 파일을 Numpy 배열로 전환\n",
    "        get_xdb = csv_db[want_para].to_numpy()\n",
    "\n",
    "        #2. 라벨링\n",
    "        get_ydb = csv_db.loc[:, 'Normal_0'].to_numpy()\n",
    "        accident_nub = {\n",
    "            '12': 1, # LOCA\n",
    "            '13': 2, # SGTR\n",
    "            '15': 1, # PZR PORV [LOCA]\n",
    "            '17': 1, # Feedwater line leak [LOCA]\n",
    "            '18': 3, # Steam Line Rupture MSLB\n",
    "            '52': 3, # Steam Line Rupture MSLB (non-isolable)\n",
    "        }\n",
    "        get_mal_nub = file.split(',')[0][1:] # '(12, 000000, 10)' -> 12\n",
    "        get_y = np.where(get_ydb != 0, accident_nub[get_mal_nub], get_ydb)\n",
    "\n",
    "        #3. 데이터 축적\n",
    "        train_x = get_xdb if train_x.shape[0] == 0 else np.concatenate((train_x, get_xdb), axis=0)\n",
    "        train_y = np.append(train_y, get_y, axis=0)\n",
    "\n",
    "        #4. min_max scaler update\n",
    "        scaler.partial_fit(train_x)\n",
    "\n",
    "        print(f'Read {file} \\t train_x shape : {np.shape(train_x)} train_y shape : {np.shape(train_y)}')\n",
    "\n",
    "# 5. 전체 db min-max scaling\n",
    "train_x = scaler.transform(train_x)\n",
    "\n",
    "# 6. 저장\n",
    "save_data_info = {\n",
    "    'scaler': scaler,\n",
    "    'want_para': want_para,\n",
    "    'train_x': train_x,\n",
    "    'train_y': train_y,\n",
    "}\n",
    "\n",
    "with open('db_info.pkl', 'wb') as f:\n",
    "    pickle.dump(save_data_info, f)"
   ],
   "metadata": {
    "collapsed": false,
    "pycharm": {
     "name": "#%%\n"
    }
   }
  },
  {
   "cell_type": "markdown",
   "source": [
    "# 4. 훈련데이터 불러오기 및 네트워크 훈련\n",
    "## 4.1 훈련데이터 불러오기"
   ],
   "metadata": {
    "collapsed": false,
    "pycharm": {
     "name": "#%% md\n"
    }
   }
  },
  {
   "cell_type": "code",
   "execution_count": null,
   "outputs": [],
   "source": [
    "with open('db_info.pkl', 'rb') as f:\n",
    "    save_data_info = pickle.load(f)"
   ],
   "metadata": {
    "collapsed": false,
    "pycharm": {
     "name": "#%%\n"
    }
   }
  },
  {
   "cell_type": "markdown",
   "source": [
    "## 3.2 네트워크 빌드 및 훈련"
   ],
   "metadata": {
    "collapsed": false,
    "pycharm": {
     "name": "#%% md\n"
    }
   }
  },
  {
   "cell_type": "code",
   "execution_count": null,
   "outputs": [],
   "source": [
    "import tensorflow.keras as k\n",
    "\n",
    "model = k.Sequential([\n",
    "    k.layers.InputLayer(input_shape=(len(save_data_info['want_para']))),\n",
    "    k.layers.Dense(128),\n",
    "    k.layers.Dense(128, activation='relu'),\n",
    "    k.layers.Dense(4, activation='softmax')\n",
    "])\n",
    "\n",
    "model.compile(optimizer='adam',\n",
    "              loss='sparse_categorical_crossentropy',\n",
    "              metrics=['accuracy'])\n",
    "print(model.summary())\n",
    "model.fit(save_data_info['train_x'], save_data_info['train_y'], epochs=5)"
   ],
   "metadata": {
    "collapsed": false,
    "pycharm": {
     "name": "#%%\n"
    }
   }
  },
  {
   "cell_type": "markdown",
   "source": [
    "## 3.3 네트워크 저장"
   ],
   "metadata": {
    "collapsed": false,
    "pycharm": {
     "name": "#%% md\n"
    }
   }
  },
  {
   "cell_type": "code",
   "source": [
    "model.save_weights('model.h5')"
   ],
   "metadata": {
    "collapsed": false,
    "pycharm": {
     "name": "#%%\n"
    }
   },
   "execution_count": null,
   "outputs": []
  },
  {
   "cell_type": "markdown",
   "source": [
    "## 3.4 네트워크 로드"
   ],
   "metadata": {
    "collapsed": false,
    "pycharm": {
     "name": "#%% md\n"
    }
   }
  },
  {
   "cell_type": "code",
   "execution_count": null,
   "outputs": [],
   "source": [
    "model.load_weights('model.h5')"
   ],
   "metadata": {
    "collapsed": false,
    "pycharm": {
     "name": "#%%\n"
    }
   }
  }
 ],
 "metadata": {
  "kernelspec": {
   "display_name": "Python 3",
   "language": "python",
   "name": "python3"
  },
  "language_info": {
   "codemirror_mode": {
    "name": "ipython",
    "version": 2
   },
   "file_extension": ".py",
   "mimetype": "text/x-python",
   "name": "python",
   "nbconvert_exporter": "python",
   "pygments_lexer": "ipython2",
   "version": "2.7.6"
  }
 },
 "nbformat": 4,
 "nbformat_minor": 0
}