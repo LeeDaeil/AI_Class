{
 "cells": [
  {
   "cell_type": "markdown",
   "metadata": {
    "collapsed": true,
    "pycharm": {
     "name": "#%% md\n"
    }
   },
   "source": [
    "# 1. Day 1\n",
    "\n",
    "### 1.1 설치\n",
    "\n",
    "- Python & pycharm 설치\n",
    "    - Python 설치 : https://www.python.org/ftp/python/3.8.9/python-3.8.9-amd64.exe\n",
    "    - Pycharm 설치 : https://www.jetbrains.com/pycharm/download/download-thanks.html?platform=windows&code=PCC\n",
    "\n",
    "- 라이브러리 설치\n",
    "    - tensorflow 설치 : pip install tensorflow\n",
    "    - pandas 설치 : pip install pandas\n",
    "    - matplotlib 설치 : pip install matplotlib"
   ]
  },
  {
   "cell_type": "markdown",
   "source": [
    "### 2. 데이터 로드 및 전처리 개괄"
   ],
   "metadata": {
    "collapsed": false,
    "pycharm": {
     "name": "#%% md\n"
    }
   }
  },
  {
   "cell_type": "markdown",
   "source": [
    "### 2.1 데이터 로드"
   ],
   "metadata": {
    "collapsed": false
   }
  },
  {
   "cell_type": "code",
   "execution_count": 2,
   "outputs": [
    {
     "data": {
      "text/plain": "<Figure size 432x288 with 1 Axes>",
      "image/png": "[encoded data removed]"
     },
     "metadata": {
      "needs_background": "light"
     },
     "output_type": "display_data"
    }
   ],
   "source": [
    "import tensorflow.keras as k\n",
    "import matplotlib.pyplot as plt\n",
    "\n",
    "clo_img = k.datasets.fashion_mnist\n",
    "(clo_train_x, clo_train_y), (clo_test_x, clo_test_y) = clo_img.load_data()\n",
    "\n",
    "plt.imshow(clo_train_x[0])\n",
    "plt.show()"
   ],
   "metadata": {
    "collapsed": false,
    "pycharm": {
     "name": "#%%\n"
    }
   }
  },
  {
   "cell_type": "markdown",
   "source": [
    "### 2.2 데이터에 라벨링"
   ],
   "metadata": {
    "collapsed": false,
    "pycharm": {
     "name": "#%% md\n"
    }
   }
  },
  {
   "cell_type": "code",
   "execution_count": 3,
   "outputs": [
    {
     "name": "stdout",
     "output_type": "stream",
     "text": [
      "T-shirt/top\n"
     ]
    }
   ],
   "source": [
    "clo_label = ['T-shirt/top', 'Trouser', 'Pullover', 'Dress', 'Coat',\n",
    "               'Sandal', 'Shirt', 'Sneaker', 'Bag', 'Ankle boot']\n",
    "\n",
    "print(clo_label[0])"
   ],
   "metadata": {
    "collapsed": false,
    "pycharm": {
     "name": "#%%\n"
    }
   }
  },
  {
   "cell_type": "markdown",
   "source": [
    "### 2.3 이미지 데이터 전처리 및 라벨링 확인"
   ],
   "metadata": {
    "collapsed": false,
    "pycharm": {
     "name": "#%% md\n"
    }
   }
  },
  {
   "cell_type": "code",
   "execution_count": 4,
   "outputs": [
    {
     "data": {
      "text/plain": "<Figure size 432x288 with 1 Axes>",
      "image/png": "[encoded data removed]"
     },
     "metadata": {
      "needs_background": "light"
     },
     "output_type": "display_data"
    }
   ],
   "source": [
    "normal_img = clo_train_x[0] / 255.0\n",
    "answer = clo_label[clo_train_y[0]]\n",
    "\n",
    "plt.title(answer)\n",
    "plt.imshow(normal_img)\n",
    "plt.show()"
   ],
   "metadata": {
    "collapsed": false,
    "pycharm": {
     "name": "#%%\n"
    }
   }
  },
  {
   "cell_type": "markdown",
   "source": [
    "## 3. 데이터 저장 및 로드"
   ],
   "metadata": {
    "collapsed": false,
    "pycharm": {
     "name": "#%% md\n"
    }
   }
  },
  {
   "cell_type": "markdown",
   "source": [
    "### 3.1 데이터 저장"
   ],
   "metadata": {
    "collapsed": false,
    "pycharm": {
     "name": "#%% md\n"
    }
   }
  },
  {
   "cell_type": "code",
   "execution_count": 13,
   "outputs": [],
   "source": [
    "db = [['a', 'b', 'c', 'd'], [1, 2, 3, 4], [2, 3, 4, 5], [3, 4, 5, 6]]\n",
    "\n",
    "with open('db.txt', 'w') as f:\n",
    "    for line in db:         # db 라는 파일 명에서 리스트 1개씩 가져옴.\n",
    "        f.write(f'{line[0]},{line[1]},{line[2]},{line[3]}\\n')   # 가져온 데이터를 넣고 저장"
   ],
   "metadata": {
    "collapsed": false,
    "pycharm": {
     "name": "#%%\n"
    }
   }
  },
  {
   "cell_type": "markdown",
   "source": [
    "### 3.2 데이터 로드"
   ],
   "metadata": {
    "collapsed": false,
    "pycharm": {
     "name": "#%% md\n"
    }
   }
  },
  {
   "cell_type": "code",
   "execution_count": 14,
   "outputs": [
    {
     "name": "stdout",
     "output_type": "stream",
     "text": [
      "[['a', 'b', 'c', 'd'], [1, 2, 3, 4], [2, 3, 4, 5], [3, 4, 5, 6]]\n"
     ]
    }
   ],
   "source": [
    "db = []\n",
    "\n",
    "with open('db.txt', 'r') as f:\n",
    "    orgin_db = f.read().split('\\n')\n",
    "    for i, one_line in enumerate(orgin_db):\n",
    "        if i == 0:                              # 첫번째 줄은 Columns 으로 String 값 가짐\n",
    "            db.append(one_line.split(','))\n",
    "        else:\n",
    "            if one_line != '':          # 엔터가 있는 경우 제외\n",
    "                db.append([int(ele) for ele in one_line.split(',')])      # 두번째 줄부터 Int 형식으로 변환\n",
    "\n",
    "print(db)"
   ],
   "metadata": {
    "collapsed": false,
    "pycharm": {
     "name": "#%%\n"
    }
   }
  },
  {
   "cell_type": "markdown",
   "source": [
    "### 3.3 데이터 시각화"
   ],
   "metadata": {
    "collapsed": false,
    "pycharm": {
     "name": "#%% md\n"
    }
   }
  },
  {
   "cell_type": "code",
   "execution_count": 15,
   "outputs": [
    {
     "data": {
      "text/plain": "<Figure size 432x288 with 1 Axes>",
      "image/png": "[encoded data removed]"
     },
     "metadata": {
      "needs_background": "light"
     },
     "output_type": "display_data"
    }
   ],
   "source": [
    "plt.plot(db[1:])\n",
    "plt.show()"
   ],
   "metadata": {
    "collapsed": false,
    "pycharm": {
     "name": "#%%\n"
    }
   }
  },
  {
   "cell_type": "code",
   "execution_count": null,
   "outputs": [],
   "source": [],
   "metadata": {
    "collapsed": false,
    "pycharm": {
     "name": "#%%\n"
    }
   }
  }
 ],
 "metadata": {
  "kernelspec": {
   "display_name": "Python 3",
   "language": "python",
   "name": "python3"
  },
  "language_info": {
   "codemirror_mode": {
    "name": "ipython",
    "version": 2
   },
   "file_extension": ".py",
   "mimetype": "text/x-python",
   "name": "python",
   "nbconvert_exporter": "python",
   "pygments_lexer": "ipython2",
   "version": "2.7.6"
  }
 },
 "nbformat": 4,
 "nbformat_minor": 0
}